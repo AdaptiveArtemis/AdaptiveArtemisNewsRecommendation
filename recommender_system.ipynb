{
 "cells": [
  {
   "cell_type": "code",
   "execution_count": 1,
   "metadata": {},
   "outputs": [],
   "source": [
    "import json\n",
    "import numpy as np"
   ]
  },
  {
   "cell_type": "markdown",
   "metadata": {},
   "source": [
    "### Load dataset"
   ]
  },
  {
   "cell_type": "code",
   "execution_count": 2,
   "metadata": {},
   "outputs": [],
   "source": [
    "with open('dataset/smithsonian.json') as f:\n",
    "    articles = json.load(f)"
   ]
  },
  {
   "cell_type": "code",
   "execution_count": 3,
   "metadata": {},
   "outputs": [],
   "source": [
    "# Extract tags from articles\n",
    "tags = []\n",
    "for article in articles:\n",
    "    tmp_arr = []\n",
    "    article_tags = article.get('tags', '') if article.get('tags') else ''\n",
    "    article_section = article.get('section', '') if article.get('section') else ''\n",
    "    raw_tags = article_tags + ',' + article_section\n",
    "    for tag in raw_tags.split(','):\n",
    "        normalised_tag = tag.strip().lower()\n",
    "        if normalised_tag != '':\n",
    "            tmp_arr.append(normalised_tag)\n",
    "    tags.append(' '.join(tmp_arr))"
   ]
  },
  {
   "cell_type": "markdown",
   "metadata": {},
   "source": [
    "### Approach 1: TF-IDF"
   ]
  },
  {
   "cell_type": "code",
   "execution_count": null,
   "metadata": {},
   "outputs": [],
   "source": [
    "from sklearn.metrics.pairwise import cosine_similarity\n",
    "from sklearn.feature_extraction.text import TfidfVectorizer"
   ]
  },
  {
   "cell_type": "code",
   "execution_count": 4,
   "metadata": {},
   "outputs": [],
   "source": [
    "# Convert the tags to a matrix of TF-IDF features\n",
    "vectorizer = TfidfVectorizer()\n",
    "tfidf_matrix = vectorizer.fit_transform(tags)"
   ]
  },
  {
   "cell_type": "code",
   "execution_count": 5,
   "metadata": {},
   "outputs": [],
   "source": [
    "# Function to generate recommendations for a user given a list of tags using TF-IDF\n",
    "def recommend(user_preference_tags, num_recommendations=5):\n",
    "    user_preference_string = ', '.join(user_preference_tags)\n",
    "    user_preference_vector = vectorizer.transform([user_preference_string])\n",
    "    similarities = cosine_similarity(user_preference_vector, tfidf_matrix)[0] # Cosine similarity return a list inside a list. We only need the first list.\n",
    "    sorted_article_indices = np.argsort(similarities)\n",
    "    top_article_indices = sorted_article_indices[-num_recommendations:]\n",
    "    return [articles[i][\"title\"] for i in top_article_indices]"
   ]
  },
  {
   "cell_type": "code",
   "execution_count": 48,
   "metadata": {},
   "outputs": [
    {
     "name": "stdout",
     "output_type": "stream",
     "text": [
      "['How the U.S. Government Deployed Grandma Moses Overseas in the Cold War', 'With AI Art, Process Is More Important Than the Product', \"The Striking New Artworks That Follow Rockefeller Center's Grand Tradition of Public Art\", 'The Story of Charles Willson Peale’s Massive Mastodon', 'These Portraits Made a Bold Statement in 19th-Century America']\n"
     ]
    }
   ],
   "source": [
    "print(recommend(['art', 'history'], 5))"
   ]
  },
  {
   "cell_type": "markdown",
   "metadata": {},
   "source": [
    "### Approach 2: Embeddings"
   ]
  },
  {
   "cell_type": "code",
   "execution_count": 7,
   "metadata": {},
   "outputs": [
    {
     "name": "stderr",
     "output_type": "stream",
     "text": [
      "/Users/gkanellopoulos/Documents/MSc Computer Science/CS7IS5 - Adaptive Applications/Project/code/.venv/lib/python3.11/site-packages/tqdm/auto.py:21: TqdmWarning: IProgress not found. Please update jupyter and ipywidgets. See https://ipywidgets.readthedocs.io/en/stable/user_install.html\n",
      "  from .autonotebook import tqdm as notebook_tqdm\n"
     ]
    }
   ],
   "source": [
    "import torch\n",
    "from transformers import BertModel, BertTokenizer\n",
    "from sklearn.metrics.pairwise import cosine_similarity"
   ]
  },
  {
   "cell_type": "code",
   "execution_count": 13,
   "metadata": {},
   "outputs": [],
   "source": [
    "tokenizer = BertTokenizer.from_pretrained('bert-base-uncased')\n",
    "model = BertModel.from_pretrained('bert-base-uncased')\n",
    "\n",
    "# Function to get BERT embeddings for a text\n",
    "def get_bert_embeddings(text):\n",
    "    inputs = tokenizer(text, return_tensors='pt')\n",
    "    outputs = model(**inputs)\n",
    "    embeddings = outputs.last_hidden_state.mean(dim=1).detach().numpy()\n",
    "    return embeddings"
   ]
  },
  {
   "cell_type": "code",
   "execution_count": 14,
   "metadata": {},
   "outputs": [],
   "source": [
    "# Function to generate recommendations for a user given a list of tags\n",
    "def recommend(user_tags, article_tags, num_recommendations=5):\n",
    "\n",
    "    user_tags_string = ', '.join(user_tags)\n",
    "    user_tags_embeddings = get_bert_embeddings(user_tags_string)\n",
    "    article_tags_string = [' '.join(tags) for tags in article_tags]\n",
    "    article_embeddings = [get_bert_embeddings(tags) for tags in article_tags_string]\n",
    "\n",
    "    similarities = [\n",
    "        cosine_similarity(user_tags_embeddings, article_embedding)[0][0] for article_embedding in article_embeddings\n",
    "    ]\n",
    "    sorted_article_indices = np.argsort(similarities)\n",
    "    top_article_indices = sorted_article_indices[-num_recommendations:]\n",
    "    return [articles[i][\"title\"] for i in top_article_indices]"
   ]
  },
  {
   "cell_type": "code",
   "execution_count": 18,
   "metadata": {},
   "outputs": [
    {
     "data": {
      "text/plain": [
       "['How Time, Space and Authority Figures Influence Your Moral Judgment',\n",
       " \"The World's Best Natural Defense Against Climate Change May Soon Make Things Worse\",\n",
       " 'Americans Are Eating Later, and That May Contribute to Weight Troubles',\n",
       " 'Biomedical Science Studies Are Shockingly Hard to Reproduce',\n",
       " \"Here's Why Our Brains Trick Us Into Seeing Things\"]"
      ]
     },
     "execution_count": 18,
     "metadata": {},
     "output_type": "execute_result"
    }
   ],
   "source": [
    "recommend(['art', 'history'], tags[:100], 5)"
   ]
  },
  {
   "cell_type": "code",
   "execution_count": null,
   "metadata": {},
   "outputs": [],
   "source": []
  },
  {
   "cell_type": "code",
   "execution_count": null,
   "metadata": {},
   "outputs": [],
   "source": []
  }
 ],
 "metadata": {
  "kernelspec": {
   "display_name": "base",
   "language": "python",
   "name": "python3"
  },
  "language_info": {
   "codemirror_mode": {
    "name": "ipython",
    "version": 3
   },
   "file_extension": ".py",
   "mimetype": "text/x-python",
   "name": "python",
   "nbconvert_exporter": "python",
   "pygments_lexer": "ipython3",
   "version": "3.11.5"
  }
 },
 "nbformat": 4,
 "nbformat_minor": 2
}
