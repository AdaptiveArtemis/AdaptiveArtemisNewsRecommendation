{
 "cells": [
  {
   "cell_type": "code",
   "execution_count": 31,
   "metadata": {},
   "outputs": [],
   "source": [
    "import json\n",
    "import numpy as np\n",
    "from sklearn.metrics.pairwise import cosine_similarity\n",
    "from sklearn.feature_extraction.text import TfidfVectorizer"
   ]
  },
  {
   "cell_type": "code",
   "execution_count": 49,
   "metadata": {},
   "outputs": [],
   "source": [
    "with open('dataset/smithsonian.json') as f:\n",
    "    articles = json.load(f)"
   ]
  },
  {
   "cell_type": "code",
   "execution_count": 33,
   "metadata": {},
   "outputs": [],
   "source": [
    "# Extract tags from articles\n",
    "tags = []\n",
    "for article in articles:\n",
    "    tmp_arr = []\n",
    "    article_tags = article.get('tags', '') if article.get('tags') else ''\n",
    "    article_section = article.get('section', '') if article.get('section') else ''\n",
    "    raw_tags = article_tags + ',' + article_section\n",
    "    for tag in raw_tags.split(','):\n",
    "        normalised_tag = tag.strip().lower()\n",
    "        if normalised_tag != '':\n",
    "            tmp_arr.append(normalised_tag)\n",
    "    tags.append(' '.join(tmp_arr))"
   ]
  },
  {
   "cell_type": "code",
   "execution_count": 34,
   "metadata": {},
   "outputs": [],
   "source": [
    "# Convert the tags to a matrix of TF-IDF features\n",
    "vectorizer = TfidfVectorizer()\n",
    "tfidf_matrix = vectorizer.fit_transform(tags)"
   ]
  },
  {
   "cell_type": "code",
   "execution_count": 47,
   "metadata": {},
   "outputs": [],
   "source": [
    "# Function to generate recommendations for a user given a list of tags using TF-IDF\n",
    "def recommend(user_preference_tags, num_recommendations=5):\n",
    "    user_preference_string = ', '.join(user_preference_tags)\n",
    "    user_preference_vector = vectorizer.transform([user_preference_string])\n",
    "    similarities = cosine_similarity(user_preference_vector, tfidf_matrix)[0] # Cosine similarity return a list inside a list. We only need the first list.\n",
    "    sorted_article_indices = np.argsort(similarities)\n",
    "    top_article_indices = sorted_article_indices[-num_recommendations:]\n",
    "    return [articles[i][\"title\"] for i in top_article_indices]"
   ]
  },
  {
   "cell_type": "code",
   "execution_count": 48,
   "metadata": {},
   "outputs": [
    {
     "name": "stdout",
     "output_type": "stream",
     "text": [
      "['How the U.S. Government Deployed Grandma Moses Overseas in the Cold War', 'With AI Art, Process Is More Important Than the Product', \"The Striking New Artworks That Follow Rockefeller Center's Grand Tradition of Public Art\", 'The Story of Charles Willson Peale’s Massive Mastodon', 'These Portraits Made a Bold Statement in 19th-Century America']\n"
     ]
    }
   ],
   "source": [
    "print(recommend(['art', 'history'], 5))"
   ]
  },
  {
   "cell_type": "code",
   "execution_count": null,
   "metadata": {},
   "outputs": [],
   "source": []
  }
 ],
 "metadata": {
  "kernelspec": {
   "display_name": "base",
   "language": "python",
   "name": "python3"
  },
  "language_info": {
   "codemirror_mode": {
    "name": "ipython",
    "version": 3
   },
   "file_extension": ".py",
   "mimetype": "text/x-python",
   "name": "python",
   "nbconvert_exporter": "python",
   "pygments_lexer": "ipython3",
   "version": "3.11.5"
  }
 },
 "nbformat": 4,
 "nbformat_minor": 2
}
